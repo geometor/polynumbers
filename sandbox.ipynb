{
 "cells": [
  {
   "cell_type": "code",
   "execution_count": 2,
   "id": "a0032466-c8b9-4dc3-b68c-b8fb68d849e7",
   "metadata": {},
   "outputs": [],
   "source": [
    "from polynumbers import *\n",
    "\n",
    "\n"
   ]
  },
  {
   "cell_type": "code",
   "execution_count": 3,
   "id": "e6f5d403-e044-41ef-8b7f-04dcbd1d0845",
   "metadata": {},
   "outputs": [],
   "source": [
    "p = sp.chebyshevt_poly(2, x)\n",
    "p = p.as_poly()"
   ]
  },
  {
   "cell_type": "code",
   "execution_count": 4,
   "id": "c31c445c-3fa4-40c2-b907-6d6c3ea00c99",
   "metadata": {},
   "outputs": [
    {
     "data": {
      "text/latex": [
       "$\\displaystyle -1$"
      ],
      "text/plain": [
       "-1"
      ]
     },
     "execution_count": 4,
     "metadata": {},
     "output_type": "execute_result"
    }
   ],
   "source": [
    "p.eval(0)"
   ]
  },
  {
   "cell_type": "code",
   "execution_count": 5,
   "id": "2322b97e-60ec-4b66-bda0-6658841353fb",
   "metadata": {},
   "outputs": [
    {
     "data": {
      "text/latex": [
       "$\\displaystyle \\operatorname{Poly}{\\left( 2 x^{2} - 1, x, domain=\\mathbb{Z} \\right)}$"
      ],
      "text/plain": [
       "Poly(2*x**2 - 1, x, domain='ZZ')"
      ]
     },
     "execution_count": 5,
     "metadata": {},
     "output_type": "execute_result"
    }
   ],
   "source": [
    "p"
   ]
  },
  {
   "cell_type": "code",
   "execution_count": 6,
   "id": "f37d3a59-451b-46ce-ace4-895824a02274",
   "metadata": {},
   "outputs": [
    {
     "data": {
      "text/plain": [
       "[Poly(x**3 - x**2 - x, x, domain='ZZ'),\n",
       " Poly(x**4 - x**3 - x**2, x, domain='ZZ'),\n",
       " Poly(x**5 - x**4 - x**3, x, domain='ZZ'),\n",
       " Poly(x**6 - x**5 - x**4, x, domain='ZZ'),\n",
       " Poly(x**7 - x**6 - x**5, x, domain='ZZ')]"
      ]
     },
     "execution_count": 6,
     "metadata": {},
     "output_type": "execute_result"
    }
   ],
   "source": [
    "a = sp.Poly([1, -1, -1, 0], x)\n",
    "\n",
    "series = []\n",
    "for i in range(5):\n",
    "    series.append(a * x**i)\n",
    "series"
   ]
  },
  {
   "cell_type": "code",
   "execution_count": 16,
   "id": "1618e383-7713-49d3-8d99-aa89c011af58",
   "metadata": {},
   "outputs": [
    {
     "data": {
      "text/plain": [
       "[(1/2 - sqrt(5)/2, 1), (0, 3), (1/2 + sqrt(5)/2, 1)]"
      ]
     },
     "execution_count": 16,
     "metadata": {},
     "output_type": "execute_result"
    }
   ],
   "source": [
    "series[2].real_roots(multiple=False)"
   ]
  },
  {
   "cell_type": "code",
   "execution_count": 24,
   "id": "42e71a93-7098-4f0c-a135-45b877af44a7",
   "metadata": {},
   "outputs": [
    {
     "data": {
      "text/plain": [
       "[{x: 0}, {x: 1/2 - sqrt(5)/2}, {x: 1/2 + sqrt(5)/2}]"
      ]
     },
     "execution_count": 24,
     "metadata": {},
     "output_type": "execute_result"
    }
   ],
   "source": [
    "sp.solve(series[4].expr, dict=True)"
   ]
  },
  {
   "cell_type": "code",
   "execution_count": 30,
   "id": "9b774ddb-5874-4bee-abc2-023b0f5a0510",
   "metadata": {},
   "outputs": [],
   "source": [
    "b = sp.diff(series[4].expr)"
   ]
  },
  {
   "cell_type": "code",
   "execution_count": 32,
   "id": "1a79df62-d6dc-4ab1-8873-be3a6264fab0",
   "metadata": {},
   "outputs": [
    {
     "data": {
      "text/plain": [
       "[0, 3/7 - 2*sqrt(11)/7, 3/7 + 2*sqrt(11)/7]"
      ]
     },
     "execution_count": 32,
     "metadata": {},
     "output_type": "execute_result"
    }
   ],
   "source": [
    "sp.solve(b)"
   ]
  },
  {
   "cell_type": "code",
   "execution_count": 33,
   "id": "44e40802-9366-42a1-9599-4096053f5bd0",
   "metadata": {},
   "outputs": [],
   "source": [
    "c = sp.diff(series[4])"
   ]
  },
  {
   "cell_type": "code",
   "execution_count": 36,
   "id": "f1e79176-9929-47fa-9087-6f98603d3a71",
   "metadata": {},
   "outputs": [
    {
     "data": {
      "text/plain": [
       "4"
      ]
     },
     "execution_count": 36,
     "metadata": {},
     "output_type": "execute_result"
    }
   ],
   "source": [
    "c.real_roots().count(0)"
   ]
  },
  {
   "cell_type": "code",
   "execution_count": null,
   "id": "84132729-e171-4dc4-a265-facff84f4040",
   "metadata": {},
   "outputs": [],
   "source": []
  }
 ],
 "metadata": {
  "kernelspec": {
   "display_name": "Python 3 (ipykernel)",
   "language": "python",
   "name": "python3"
  },
  "language_info": {
   "codemirror_mode": {
    "name": "ipython",
    "version": 3
   },
   "file_extension": ".py",
   "mimetype": "text/x-python",
   "name": "python",
   "nbconvert_exporter": "python",
   "pygments_lexer": "ipython3",
   "version": "3.9.5"
  }
 },
 "nbformat": 4,
 "nbformat_minor": 5
}
