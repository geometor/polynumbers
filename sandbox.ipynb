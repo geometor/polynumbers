{
 "cells": [
  {
   "cell_type": "code",
   "execution_count": 1,
   "id": "a0032466-c8b9-4dc3-b68c-b8fb68d849e7",
   "metadata": {},
   "outputs": [],
   "source": [
    "from polynumbers import *\n",
    "\n",
    "\n"
   ]
  },
  {
   "cell_type": "code",
   "execution_count": 10,
   "id": "e6f5d403-e044-41ef-8b7f-04dcbd1d0845",
   "metadata": {},
   "outputs": [],
   "source": [
    "p = sp.chebyshevt_poly(2, x)\n",
    "p = p.as_poly()"
   ]
  },
  {
   "cell_type": "code",
   "execution_count": 11,
   "id": "c31c445c-3fa4-40c2-b907-6d6c3ea00c99",
   "metadata": {},
   "outputs": [
    {
     "data": {
      "text/latex": [
       "$\\displaystyle -1$"
      ],
      "text/plain": [
       "-1"
      ]
     },
     "execution_count": 11,
     "metadata": {},
     "output_type": "execute_result"
    }
   ],
   "source": [
    "p.eval(0)"
   ]
  },
  {
   "cell_type": "code",
   "execution_count": null,
   "id": "a0362f6a-d1b8-4c09-a1f9-5d99ceae8967",
   "metadata": {},
   "outputs": [],
   "source": []
  }
 ],
 "metadata": {
  "kernelspec": {
   "display_name": "Python 3 (ipykernel)",
   "language": "python",
   "name": "python3"
  },
  "language_info": {
   "codemirror_mode": {
    "name": "ipython",
    "version": 3
   },
   "file_extension": ".py",
   "mimetype": "text/x-python",
   "name": "python",
   "nbconvert_exporter": "python",
   "pygments_lexer": "ipython3",
   "version": "3.9.2"
  }
 },
 "nbformat": 4,
 "nbformat_minor": 5
}
