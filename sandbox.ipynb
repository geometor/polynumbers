{
 "cells": [
  {
   "cell_type": "code",
   "execution_count": 3,
   "id": "a0032466-c8b9-4dc3-b68c-b8fb68d849e7",
   "metadata": {},
   "outputs": [
    {
     "data": {
      "text/plain": [
       "262144"
      ]
     },
     "execution_count": 3,
     "metadata": {},
     "output_type": "execute_result"
    }
   ],
   "source": [
    "from polynumbers import *\n",
    "\n",
    "2**18\n"
   ]
  },
  {
   "cell_type": "code",
   "execution_count": null,
   "id": "e6f5d403-e044-41ef-8b7f-04dcbd1d0845",
   "metadata": {},
   "outputs": [],
   "source": []
  }
 ],
 "metadata": {
  "kernelspec": {
   "display_name": "Python 3 (ipykernel)",
   "language": "python",
   "name": "python3"
  },
  "language_info": {
   "codemirror_mode": {
    "name": "ipython",
    "version": 3
   },
   "file_extension": ".py",
   "mimetype": "text/x-python",
   "name": "python",
   "nbconvert_exporter": "python",
   "pygments_lexer": "ipython3",
   "version": "3.9.2"
  }
 },
 "nbformat": 4,
 "nbformat_minor": 5
}
